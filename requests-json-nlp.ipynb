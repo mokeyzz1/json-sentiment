{
 "cells": [
  {
   "cell_type": "markdown",
   "metadata": {},
   "source": [
    "# Web Mining and Applied NLP (44-620)\n",
    "\n",
    "## Requests, JSON, and NLP\n",
    "\n",
    "### Student Name: Moses Koroma\n",
    "\n",
    "Perform the tasks described in the Markdown cells below.  When you have completed the assignment make sure your code cells have all been run (and have output beneath them) and ensure you have committed and pushed ALL of your changes to your assignment repository.\n",
    "\n",
    "Make sure you have [installed spaCy and its pipeline](https://spacy.io/usage#quickstart) and [spaCyTextBlob](https://spacy.io/universe/project/spacy-textblob)\n",
    "\n",
    "Every question that requires you to write code will have a code cell underneath it; you may either write your entire solution in that cell or write it in a python file (`.py`), then import and run the appropriate code to answer the question.\n",
    "\n",
    "This assignment requires that you write additional files (either JSON or pickle files); make sure to submit those files in your repository as well."
   ]
  },
  {
   "cell_type": "markdown",
   "metadata": {},
   "source": [
    "1. The following code accesses the [lyrics.ovh](https://lyricsovh.docs.apiary.io/#reference/0/lyrics-of-a-song/search) public api, searches for the lyrics of a song, and stores it in a dictionary object.  Write the resulting json to a file (either a JSON file or a pickle file; you choose). You will read in the contents of this file for future questions so we do not need to frequently access the API."
   ]
  },
  {
   "cell_type": "code",
   "execution_count": 2,
   "metadata": {},
   "outputs": [
    {
     "name": "stdout",
     "output_type": "stream",
     "text": [
      "Lyrics saved to birdhouse_lyrics.json\n"
     ]
    }
   ],
   "source": [
    "import requests\n",
    "import json\n",
    "\n",
    "# Step 1: Call the API\n",
    "response = requests.get('https://api.lyrics.ovh/v1/They Might Be Giants/Birdhouse in your soul')\n",
    "\n",
    "# Step 2: Convert response to JSON\n",
    "result = response.json()\n",
    "\n",
    "# Step 3: Save JSON to a local file\n",
    "with open('birdhouse_lyrics.json', 'w', encoding='utf-8') as f:\n",
    "    json.dump(result, f, indent=4)\n",
    "\n",
    "print(\"Lyrics saved to birdhouse_lyrics.json\")\n"
   ]
  },
  {
   "cell_type": "markdown",
   "metadata": {},
   "source": [
    "2. Read in the contents of your file.  Print the lyrics of the song (not the entire dictionary!) and use spaCyTextBlob to perform sentiment analysis on the lyrics.  Print the polarity score of the sentiment analysis.  Given that the range of the polarity score is `[-1.0,1.0]` which corresponds to how positive or negative the text in question is, do you think the lyrics have a more positive or negative connotaion?  Answer this question in a comment in your code cell."
   ]
  },
  {
   "cell_type": "code",
   "execution_count": 4,
   "metadata": {},
   "outputs": [
    {
     "name": "stdout",
     "output_type": "stream",
     "text": [
      "Lyrics Preview:\n",
      "\n",
      "I'm your only friend \n",
      "I'm not your only friend \n",
      "But I'm a little glowing friend \n",
      "But really I'm not actually your friend \n",
      "But I am \n",
      "\n",
      "\n",
      "Blue canary in the outlet by the light switch \n",
      "\n",
      "Who watches over you \n",
      "\n",
      "Make a little birdhouse in your soul \n",
      "\n",
      "Not to put too fine a point on it \n",
      "\n",
      "Say I'm the only bee in your bonnet \n",
      "\n",
      "Make a little birdhouse in your soul \n",
      "\n",
      "\n",
      "\n",
      "I have a secret to tell \n",
      "\n",
      "From my electrical well \n",
      "\n",
      "It's a simple message and I'm leaving out the whistles and bells \n",
      "\n",
      "So the room must liste\n",
      "\n",
      "Polarity Score: 0.04505208333333333\n"
     ]
    }
   ],
   "source": [
    "import spacy\n",
    "from spacytextblob.spacytextblob import SpacyTextBlob\n",
    "from spacy.tokens import Doc\n",
    "import json\n",
    "\n",
    "# Load model and add sentiment pipe\n",
    "nlp = spacy.load(\"en_core_web_sm\")\n",
    "if \"spacytextblob\" not in nlp.pipe_names:\n",
    "    nlp.add_pipe(\"spacytextblob\")\n",
    "\n",
    "# Manually register polarity extension (fixes the error)\n",
    "if not Doc.has_extension(\"polarity\"):\n",
    "    Doc.set_extension(\"polarity\", getter=lambda doc: doc._.blob.polarity)\n",
    "\n",
    "# Load lyrics\n",
    "with open(\"birdhouse_lyrics.json\", \"r\", encoding=\"utf-8\") as f:\n",
    "    data = json.load(f)\n",
    "\n",
    "lyrics = data[\"lyrics\"]\n",
    "print(\"Lyrics Preview:\\n\")\n",
    "print(lyrics[:500])\n",
    "\n",
    "# Run sentiment analysis\n",
    "doc = nlp(lyrics)\n",
    "polarity = doc._.polarity\n",
    "\n",
    "print(\"\\nPolarity Score:\", polarity)"
   ]
  },
  {
   "cell_type": "markdown",
   "metadata": {},
   "source": [
    "3. Write a function that takes an artist, song, and filename, accesses the lyrics.ovh api to get the song lyrics, and writes the results to the specified filename.  Test this function by getting the lyrics to any four songs of your choice and storing them in different files."
   ]
  },
  {
   "cell_type": "code",
   "execution_count": null,
   "metadata": {},
   "outputs": [
    {
     "name": "stdout",
     "output_type": "stream",
     "text": [
      "Lyrics saved to hello.json\n",
      "Lyrics saved to yellow.json\n",
      "⚠️ Failed to get lyrics for Drake - Gods Plan\n",
      "⚠️ Failed to get lyrics for Eminem - Lose Yourself\n"
     ]
    }
   ],
   "source": [
    "import requests\n",
    "import json\n",
    "\n",
    "def save_lyrics(artist, song, filename):\n",
    "    url = f\"https://api.lyrics.ovh/v1/{artist}/{song}\"\n",
    "    response = requests.get(url)\n",
    "\n",
    "    if response.status_code == 200 and response.text.strip():\n",
    "        try:\n",
    "            data = response.json()\n",
    "            with open(filename, \"w\", encoding=\"utf-8\") as f:\n",
    "                json.dump(data, f)\n",
    "            print(f\"Lyrics saved to {filename}\")\n",
    "        except json.JSONDecodeError:\n",
    "            print(f\" Could not decode JSON for {artist} - {song}\")\n",
    "    else:\n",
    "        print(f\" Failed to get lyrics for {artist} - {song}\")\n",
    "\n",
    "# Test with 4 known, simple songs\n",
    "save_lyrics(\"Adele\", \"Hello\", \"hello.json\")\n",
    "save_lyrics(\"Coldplay\", \"Yellow\", \"yellow.json\")\n",
    "\n"
   ]
  },
  {
   "cell_type": "markdown",
   "metadata": {},
   "source": [
    "4. Write a function that takes the name of a file that contains song lyrics, loads the file, performs sentiment analysis, and returns the polarity score.  Use this function to print the polarity scores (with the name of the song) of the three files you created in question 3.  Does the reported polarity match your understanding of the song's lyrics? Why or why not do you think that might be?  Answer the questions in either a comment in the code cell or a markdown cell under the code cell."
   ]
  },
  {
   "cell_type": "code",
   "execution_count": null,
   "metadata": {},
   "outputs": [],
   "source": []
  }
 ],
 "metadata": {
  "kernelspec": {
   "display_name": ".venv",
   "language": "python",
   "name": "python3"
  },
  "language_info": {
   "codemirror_mode": {
    "name": "ipython",
    "version": 3
   },
   "file_extension": ".py",
   "mimetype": "text/x-python",
   "name": "python",
   "nbconvert_exporter": "python",
   "pygments_lexer": "ipython3",
   "version": "3.11.7"
  }
 },
 "nbformat": 4,
 "nbformat_minor": 4
}
